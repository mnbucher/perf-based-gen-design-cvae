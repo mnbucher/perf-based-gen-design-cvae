{
 "cells": [
  {
   "cell_type": "markdown",
   "metadata": {
    "id": "pK-x5OUeu9zt"
   },
   "source": [
    "# Sobol Sequence Generation of Bridge Parameters"
   ]
  },
  {
   "cell_type": "code",
   "execution_count": 1,
   "metadata": {
    "colab": {
     "base_uri": "https://localhost:8080/"
    },
    "id": "O-DtVv4_u9zy",
    "outputId": "82c08cd1-e485-4ae8-d087-d13c34eca452"
   },
   "outputs": [],
   "source": [
    "# import packages\n",
    "import numpy as np\n",
    "import pandas as pd\n",
    "from matplotlib import pyplot as plt\n",
    "\n",
    "#!pip3 install scikit-optimize\n",
    "from skopt.space import Space\n",
    "from skopt.sampler import Sobol\n",
    "# from skopt.sampler import Lhs\n",
    "#from skopt.sampler import Grid\n",
    "# from scipy.spatial.distance import pdist\n",
    "\n",
    "#Installation\n",
    "# conda install -c conda-forge scikit-optimize"
   ]
  },
  {
   "cell_type": "markdown",
   "metadata": {
    "id": "n3fv17w8u9zy"
   },
   "source": [
    "## Sampling of Birdge Parameter Combinations"
   ]
  },
  {
   "cell_type": "markdown",
   "metadata": {
    "id": "EK5mSQwQu9zz"
   },
   "source": [
    "To sample the input space of bridge parameter combinations the Sobol Sequences is used. Sobol0 sequences belong to the family of quasi-random sequences which are designed to generate samples of multiple parameters as uniformly as possible over the multi-dimensional parameter space (Saltelli et al., 2010). In comparison random sampling cannot guarantee a good and even spred accross the dimensions, but accumulations and gaps are often present. The biggest difference is that the quasi-random samplers use the infomration of the previously sampled points. Therefore, the an quasi-random sampler such as the Sobol Sequence is advantageous for applications where the number of sample points is limited but still a good ecploration of the input parameter space is needed. "
   ]
  },
  {
   "cell_type": "markdown",
   "metadata": {
    "id": "e4cliiSOu9z0"
   },
   "source": [
    "#### Generate Samples"
   ]
  },
  {
   "cell_type": "code",
   "execution_count": 6,
   "metadata": {
    "id": "ZYe5nVWQu9z1"
   },
   "outputs": [
    {
     "name": "stdout",
     "output_type": "stream",
     "text": [
      "131072\n"
     ]
    }
   ],
   "source": [
    "# Define desired number of data points\n",
    "\n",
    "#n_samples = 2**15\n",
    "n_samples = 2**17\n",
    "\n",
    "#n_samples = 2**13\n",
    "#n_samples = 2**3\n",
    "\n",
    "print(n_samples)\n",
    "\n",
    "#set dimension ranges for the sampler\n",
    "# Order: Span [m], Rise of Arch [m]; Width [m]; Hanger Spacing [m]; Alpha0 [°]; Tie and Arch CS-Depth [m], Hanger CS-Area [m^2]; h/b Box CS [-]; tw/h Box [-], tf/b Box [-]\n",
    "space = Space([(20., 200.),(5., 100.),(10., 25.), (1., 40.),(10., 90.),(0.2, 3.5), (0.001, 0.01),(0.5, 2.),(0.005, 0.04),(0.01, 0.07)])\n",
    "\n",
    "#space_2d = Space([(20., 200.),(5., 100.)])\n",
    "#space_4d = Space([(20., 200.),(5., 100.),(10., 25.), (1., 40.)])\n",
    "#space_6d = Space([(20., 200.),(5., 100.),(10., 25.), (1., 40.),(10., 90.),(0.2, 3.5)])"
   ]
  },
  {
   "cell_type": "code",
   "execution_count": 7,
   "metadata": {
    "id": "z1qm6Upeu9z1"
   },
   "outputs": [],
   "source": [
    "# generate parameter combinations with Sobol Sequence\n",
    "\n",
    "sobol = Sobol()\n",
    "\n",
    "x = sobol.generate(space.dimensions, n_samples)\n",
    "#x_2d = sobol.generate(space_2d.dimensions, n_samples)\n",
    "#x_4d = sobol.generate(space_4d.dimensions, n_samples)\n",
    "#x_6d = sobol.generate(space_6d.dimensions, n_samples)\n",
    "\n",
    "#print(x[0])\n",
    "#y = space.transform(x)\n",
    "#print(y[0])\n",
    "\n",
    "#x_rnd = space.rvs(n_samples)\n",
    "\n",
    "#grid = Grid(append_border=\"include\")\n",
    "#x_grid = grid.generate(space.dimensions, n_samples)"
   ]
  },
  {
   "cell_type": "code",
   "execution_count": 13,
   "metadata": {},
   "outputs": [],
   "source": [
    "#print(x[2])\n",
    "x = np.array(x)"
   ]
  },
  {
   "cell_type": "markdown",
   "metadata": {
    "id": "Bhh3AlBpu9z4"
   },
   "source": [
    "#### Plot Parameters Space"
   ]
  },
  {
   "cell_type": "code",
   "execution_count": 10,
   "metadata": {
    "id": "yeo5qCpau9z4"
   },
   "outputs": [],
   "source": [
    "def plot_searchspace(x, dim1, dim2, dim1Name, dim2Name, title):\n",
    "    fig, ax = plt.subplots()\n",
    "    plt.plot(np.array(x)[:, dim1], np.array(x)[:, dim2], 'r+', label='samples')\n",
    "    plt.plot(np.array(x)[:, dim1], np.array(x)[:, dim2], 'r+', alpha=0.5)\n",
    "    # ax.legend(loc=\"best\", numpoints=1)\n",
    "    ax.set_xlabel(dim1Name)\n",
    "    #ax.set_xlim([-5, 10])\n",
    "    ax.set_ylabel(dim2Name)\n",
    "    #ax.set_ylim([0, 15])\n",
    "    plt.title(title)"
   ]
  },
  {
   "cell_type": "code",
   "execution_count": 9,
   "metadata": {
    "colab": {
     "base_uri": "https://localhost:8080/",
     "height": 573
    },
    "id": "waSd-1cOu9z6",
    "outputId": "e4a33b45-9ae6-478c-d03d-ffcbbc60d7d1"
   },
   "outputs": [
    {
     "name": "stdout",
     "output_type": "stream",
     "text": [
      "[20.00458805  5.00191615]\n",
      "[199.99909489  99.99901698]\n"
     ]
    }
   ],
   "source": [
    "#plot_searchspace(x,0,1,'Span [m]','Rise of Arch [m]', 'Sobol')\n",
    "#plot_searchspace(x,2,3, 'Width [m]','Hanger Spacing [m]','Sobol')\n",
    "\n",
    "#print(np.min(x_2d, axis=0))\n",
    "#print(np.max(x_2d, axis=0))"
   ]
  },
  {
   "cell_type": "code",
   "execution_count": 21,
   "metadata": {},
   "outputs": [
    {
     "data": {
      "image/png": "[encoded data removed]",
      "text/plain": [
       "<Figure size 432x288 with 1 Axes>"
      ]
     },
     "metadata": {
      "needs_background": "light"
     },
     "output_type": "display_data"
    }
   ],
   "source": [
    "#from sklearn.decomposition import PCA\n",
    "#pca = PCA(n_components=2)\n",
    "\n",
    "x_2d_matrix = np.array(x_2d)\n",
    "x_matrix = np.array(x)\n",
    "\n",
    "#plt.hist(x_2d_matrix[:, 0], 10000)\n",
    "plt.hist(x_matrix[:, 0], 1000)\n",
    "plt.show()\n",
    "\n",
    "#plot_searchspace(x_2d, 0, 1, '0', '1', 'sobol')"
   ]
  },
  {
   "cell_type": "code",
   "execution_count": 68,
   "metadata": {},
   "outputs": [
    {
     "ename": "MemoryError",
     "evalue": "Too large sets",
     "output_type": "error",
     "traceback": [
      "\u001b[0;31m---------------------------------------------------------------------------\u001b[0m",
      "\u001b[0;31mMemoryError\u001b[0m                               Traceback (most recent call last)",
      "\u001b[0;32m/var/folders/pt/sq_7kmk12hj55q5bh__7ly9r0000gn/T/ipykernel_16069/837725550.py\u001b[0m in \u001b[0;36m<module>\u001b[0;34m\u001b[0m\n\u001b[1;32m     10\u001b[0m \u001b[0;34m\u001b[0m\u001b[0m\n\u001b[1;32m     11\u001b[0m \u001b[0mgrid\u001b[0m \u001b[0;34m=\u001b[0m \u001b[0mGrid\u001b[0m\u001b[0;34m(\u001b[0m\u001b[0mappend_border\u001b[0m\u001b[0;34m=\u001b[0m\u001b[0;34m\"include\"\u001b[0m\u001b[0;34m)\u001b[0m\u001b[0;34m\u001b[0m\u001b[0;34m\u001b[0m\u001b[0m\n\u001b[0;32m---> 12\u001b[0;31m \u001b[0mx_grid\u001b[0m \u001b[0;34m=\u001b[0m \u001b[0mgrid\u001b[0m\u001b[0;34m.\u001b[0m\u001b[0mgenerate\u001b[0m\u001b[0;34m(\u001b[0m\u001b[0mspace\u001b[0m\u001b[0;34m.\u001b[0m\u001b[0mdimensions\u001b[0m\u001b[0;34m,\u001b[0m \u001b[0mn_samples\u001b[0m\u001b[0;34m)\u001b[0m\u001b[0;34m\u001b[0m\u001b[0;34m\u001b[0m\u001b[0m\n\u001b[0m\u001b[1;32m     13\u001b[0m \u001b[0mx_grid\u001b[0m \u001b[0;34m=\u001b[0m \u001b[0mnp\u001b[0m\u001b[0;34m.\u001b[0m\u001b[0marray\u001b[0m\u001b[0;34m(\u001b[0m\u001b[0mx_grid\u001b[0m\u001b[0;34m)\u001b[0m\u001b[0;34m\u001b[0m\u001b[0;34m\u001b[0m\u001b[0m\n\u001b[1;32m     14\u001b[0m \u001b[0mx_grid_proj\u001b[0m \u001b[0;34m=\u001b[0m \u001b[0mpca\u001b[0m\u001b[0;34m.\u001b[0m\u001b[0mfit_transform\u001b[0m\u001b[0;34m(\u001b[0m\u001b[0mx_grid\u001b[0m\u001b[0;34m)\u001b[0m\u001b[0;34m\u001b[0m\u001b[0;34m\u001b[0m\u001b[0m\n",
      "\u001b[0;32m/usr/local/lib/python3.9/site-packages/skopt/sampler/grid.py\u001b[0m in \u001b[0;36mgenerate\u001b[0;34m(self, dimensions, n_samples, random_state)\u001b[0m\n\u001b[1;32m    130\u001b[0m             \u001b[0;32mif\u001b[0m \u001b[0morder\u001b[0m \u001b[0;34m<\u001b[0m \u001b[0;36m1\u001b[0m\u001b[0;34m:\u001b[0m\u001b[0;34m\u001b[0m\u001b[0;34m\u001b[0m\u001b[0m\n\u001b[1;32m    131\u001b[0m                 \u001b[0morder\u001b[0m \u001b[0;34m=\u001b[0m \u001b[0;36m1\u001b[0m\u001b[0;34m\u001b[0m\u001b[0;34m\u001b[0m\u001b[0m\n\u001b[0;32m--> 132\u001b[0;31m             \u001b[0mh\u001b[0m \u001b[0;34m=\u001b[0m \u001b[0m_create_uniform_grid_exclude_border\u001b[0m\u001b[0;34m(\u001b[0m\u001b[0mn_dim\u001b[0m\u001b[0;34m,\u001b[0m \u001b[0morder\u001b[0m\u001b[0;34m)\u001b[0m\u001b[0;34m\u001b[0m\u001b[0;34m\u001b[0m\u001b[0m\n\u001b[0m\u001b[1;32m    133\u001b[0m         \u001b[0;32melif\u001b[0m \u001b[0mself\u001b[0m\u001b[0;34m.\u001b[0m\u001b[0mborder\u001b[0m \u001b[0;34m==\u001b[0m \u001b[0;34m\"only\"\u001b[0m\u001b[0;34m:\u001b[0m\u001b[0;34m\u001b[0m\u001b[0;34m\u001b[0m\u001b[0m\n\u001b[1;32m    134\u001b[0m             \u001b[0;32mif\u001b[0m \u001b[0mself\u001b[0m\u001b[0;34m.\u001b[0m\u001b[0muse_full_layout\u001b[0m\u001b[0;34m:\u001b[0m\u001b[0;34m\u001b[0m\u001b[0;34m\u001b[0m\u001b[0m\n",
      "\u001b[0;32m/usr/local/lib/python3.9/site-packages/skopt/sampler/grid.py\u001b[0m in \u001b[0;36m_create_uniform_grid_exclude_border\u001b[0;34m(n_dim, order)\u001b[0m\n\u001b[1;32m     30\u001b[0m     \u001b[0;32massert\u001b[0m \u001b[0mn_dim\u001b[0m \u001b[0;34m>\u001b[0m \u001b[0;36m0\u001b[0m\u001b[0;34m\u001b[0m\u001b[0;34m\u001b[0m\u001b[0m\n\u001b[1;32m     31\u001b[0m     \u001b[0mx_data\u001b[0m \u001b[0;34m=\u001b[0m \u001b[0mnp\u001b[0m\u001b[0;34m.\u001b[0m\u001b[0marange\u001b[0m\u001b[0;34m(\u001b[0m\u001b[0;36m1\u001b[0m\u001b[0;34m,\u001b[0m \u001b[0morder\u001b[0m \u001b[0;34m+\u001b[0m \u001b[0;36m1\u001b[0m\u001b[0;34m)\u001b[0m \u001b[0;34m/\u001b[0m \u001b[0;34m(\u001b[0m\u001b[0morder\u001b[0m \u001b[0;34m+\u001b[0m \u001b[0;36m1.\u001b[0m\u001b[0;34m)\u001b[0m\u001b[0;34m\u001b[0m\u001b[0;34m\u001b[0m\u001b[0m\n\u001b[0;32m---> 32\u001b[0;31m     \u001b[0mx_data\u001b[0m \u001b[0;34m=\u001b[0m \u001b[0m_quadrature_combine\u001b[0m\u001b[0;34m(\u001b[0m\u001b[0;34m[\u001b[0m\u001b[0mx_data\u001b[0m\u001b[0;34m]\u001b[0m \u001b[0;34m*\u001b[0m \u001b[0mn_dim\u001b[0m\u001b[0;34m)\u001b[0m\u001b[0;34m\u001b[0m\u001b[0;34m\u001b[0m\u001b[0m\n\u001b[0m\u001b[1;32m     33\u001b[0m     \u001b[0;32mreturn\u001b[0m \u001b[0mx_data\u001b[0m\u001b[0;34m\u001b[0m\u001b[0;34m\u001b[0m\u001b[0m\n\u001b[1;32m     34\u001b[0m \u001b[0;34m\u001b[0m\u001b[0m\n",
      "\u001b[0;32m/usr/local/lib/python3.9/site-packages/skopt/sampler/grid.py\u001b[0m in \u001b[0;36m_quadrature_combine\u001b[0;34m(args)\u001b[0m\n\u001b[1;32m     15\u001b[0m     \u001b[0msize\u001b[0m \u001b[0;34m=\u001b[0m \u001b[0mnp\u001b[0m\u001b[0;34m.\u001b[0m\u001b[0mprod\u001b[0m\u001b[0;34m(\u001b[0m\u001b[0mshapes\u001b[0m\u001b[0;34m,\u001b[0m \u001b[0;36m0\u001b[0m\u001b[0;34m)\u001b[0m\u001b[0;34m[\u001b[0m\u001b[0;36m0\u001b[0m\u001b[0;34m]\u001b[0m \u001b[0;34m*\u001b[0m \u001b[0mnp\u001b[0m\u001b[0;34m.\u001b[0m\u001b[0msum\u001b[0m\u001b[0;34m(\u001b[0m\u001b[0mshapes\u001b[0m\u001b[0;34m,\u001b[0m \u001b[0;36m0\u001b[0m\u001b[0;34m)\u001b[0m\u001b[0;34m[\u001b[0m\u001b[0;36m1\u001b[0m\u001b[0;34m]\u001b[0m\u001b[0;34m\u001b[0m\u001b[0;34m\u001b[0m\u001b[0m\n\u001b[1;32m     16\u001b[0m     \u001b[0;32mif\u001b[0m \u001b[0msize\u001b[0m \u001b[0;34m>\u001b[0m \u001b[0;36m10\u001b[0m \u001b[0;34m**\u001b[0m \u001b[0;36m9\u001b[0m\u001b[0;34m:\u001b[0m\u001b[0;34m\u001b[0m\u001b[0;34m\u001b[0m\u001b[0m\n\u001b[0;32m---> 17\u001b[0;31m         \u001b[0;32mraise\u001b[0m \u001b[0mMemoryError\u001b[0m\u001b[0;34m(\u001b[0m\u001b[0;34m\"Too large sets\"\u001b[0m\u001b[0;34m)\u001b[0m\u001b[0;34m\u001b[0m\u001b[0;34m\u001b[0m\u001b[0m\n\u001b[0m\u001b[1;32m     18\u001b[0m \u001b[0;34m\u001b[0m\u001b[0m\n\u001b[1;32m     19\u001b[0m     \u001b[0mout\u001b[0m \u001b[0;34m=\u001b[0m \u001b[0margs\u001b[0m\u001b[0;34m[\u001b[0m\u001b[0;36m0\u001b[0m\u001b[0;34m]\u001b[0m\u001b[0;34m\u001b[0m\u001b[0;34m\u001b[0m\u001b[0m\n",
      "\u001b[0;31mMemoryError\u001b[0m: Too large sets"
     ]
    }
   ],
   "source": [
    "from sklearn.decomposition import PCA\n",
    "pca = PCA(n_components=2)\n",
    "\n",
    "sobol = Sobol()\n",
    "x = sobol.generate(space.dimensions, n_samples)\n",
    "x = np.array(x)\n",
    "x_proj = pca.fit_transform(x)\n",
    "\n",
    "#x = space.rvs(n_samples)\n",
    "\n",
    "grid = Grid(append_border=\"include\")\n",
    "x_grid = grid.generate(space.dimensions, n_samples)\n",
    "x_grid = np.array(x_grid)\n",
    "x_grid_proj = pca.fit_transform(x_grid)\n",
    "\n",
    "print(x.shape)\n",
    "print(x_proj.shape)\n",
    "print(x_grid.shape)\n",
    "print(x_grid_proj.shape)\n",
    "\n",
    "#plt.plot(np.array(x_proj)[:, 0], np.array(x_proj)[:, 1], 'r+', label='samples')\n",
    "plt.plot(np.array(x_grid_proj)[:, 0], np.array(x_grid_proj)[:, 1], 'b+', label='samples')"
   ]
  },
  {
   "cell_type": "code",
   "execution_count": 65,
   "metadata": {},
   "outputs": [
    {
     "data": {
      "text/plain": [
       "[<matplotlib.lines.Line2D at 0x124e17430>]"
      ]
     },
     "execution_count": 65,
     "metadata": {},
     "output_type": "execute_result"
    },
    {
     "data": {
      "image/png": "[encoded data removed]",
      "text/plain": [
       "<Figure size 432x288 with 1 Axes>"
      ]
     },
     "metadata": {
      "needs_background": "light"
     },
     "output_type": "display_data"
    }
   ],
   "source": [
    "plt.plot(np.array(x_proj)[:, 0], np.array(x_proj)[:, 1], 'r+', label='samples')"
   ]
  },
  {
   "cell_type": "markdown",
   "metadata": {
    "id": "H7RaxBHCu9z7"
   },
   "source": [
    "#### Export Generated Samples"
   ]
  },
  {
   "cell_type": "code",
   "execution_count": 14,
   "metadata": {
    "id": "8r3AX8Ceu9z7"
   },
   "outputs": [],
   "source": [
    "# save to csv file\n",
    "#np.savetxt('SobolParameterSamples{}.csv'.format(n_samples), x, delimiter=',')\n",
    "\n",
    "#np.savetxt(f'SobolParameterSamples{n_samples}_2d.csv', x_2d, delimiter=',')\n",
    "#np.savetxt(f'SobolParameterSamples{n_samples}_4d.csv', x_4d, delimiter=',')\n",
    "np.savetxt(f'x-10d-orig-large-{n_samples}.csv', x, delimiter=',')"
   ]
  }
 ],
 "metadata": {
  "colab": {
   "collapsed_sections": [],
   "name": "BridgeGenerator_Sobol.ipynb",
   "provenance": []
  },
  "kernelspec": {
   "display_name": "Python 3 (ipykernel)",
   "language": "python",
   "name": "python3"
  },
  "language_info": {
   "codemirror_mode": {
    "name": "ipython",
    "version": 3
   },
   "file_extension": ".py",
   "mimetype": "text/x-python",
   "name": "python",
   "nbconvert_exporter": "python",
   "pygments_lexer": "ipython3",
   "version": "3.9.8"
  }
 },
 "nbformat": 4,
 "nbformat_minor": 1
}
